{
 "cells": [
  {
   "cell_type": "code",
   "execution_count": 8,
   "id": "00b1f320",
   "metadata": {},
   "outputs": [],
   "source": [
    "import json\n",
    "CONFIG = json.load(open('config.json'))"
   ]
  },
  {
   "cell_type": "code",
   "execution_count": 9,
   "id": "e4592b95",
   "metadata": {},
   "outputs": [
    {
     "name": "stdout",
     "output_type": "stream",
     "text": [
      "{'capabilities': {'deviceName': 'My Device', 'udid': 'RF8N70B8GZJ', 'platformName': 'Android', 'automationName': 'uiautomator2', 'uiautomator2ServerInstallTimeout': 80000, 'appPackage': 'org.telegram.messenger', 'appActivity': 'org.telegram.ui.LaunchActivity', 'clearSystemFiles': True, 'newCommandTimeout': 4000, 'noReset': False, 'autoAcceptAlerts': True, 'unicodeKeyboard': True}}\n"
     ]
    }
   ],
   "source": [
    "print(CONFIG)"
   ]
  },
  {
   "cell_type": "code",
   "execution_count": 12,
   "id": "8eab8224",
   "metadata": {},
   "outputs": [
    {
     "name": "stdout",
     "output_type": "stream",
     "text": [
      "org.telegram.messenger\n"
     ]
    }
   ],
   "source": [
    "APP_ID = CONFIG['capabilities'].get('appPackage', CONFIG['capabilities'].get('appPackage', \"org.telegram.messenger\"))\n",
    "print(APP_ID)"
   ]
  },
  {
   "cell_type": "code",
   "execution_count": null,
   "id": "36b4bc09",
   "metadata": {},
   "outputs": [],
   "source": []
  }
 ],
 "metadata": {
  "kernelspec": {
   "display_name": "Python 3",
   "language": "python",
   "name": "python3"
  },
  "language_info": {
   "codemirror_mode": {
    "name": "ipython",
    "version": 3
   },
   "file_extension": ".py",
   "mimetype": "text/x-python",
   "name": "python",
   "nbconvert_exporter": "python",
   "pygments_lexer": "ipython3",
   "version": "3.7.9"
  }
 },
 "nbformat": 4,
 "nbformat_minor": 5
}
